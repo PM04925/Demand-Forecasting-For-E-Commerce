{
 "cells": [
  {
   "cell_type": "markdown",
   "metadata": {},
   "source": [
    "Autocorrelation: There is a significant correlation between past and future values of sales, clicks, or impressions. This can be used to build autoregressive models (ARIMA)."
   ]
  },
  {
   "cell_type": "code",
   "execution_count": null,
   "metadata": {
    "vscode": {
     "languageId": "plaintext"
    }
   },
   "outputs": [],
   "source": []
  }
 ],
 "metadata": {
  "language_info": {
   "name": "python"
  }
 },
 "nbformat": 4,
 "nbformat_minor": 2
}
