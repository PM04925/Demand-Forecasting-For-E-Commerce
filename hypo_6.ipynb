{
 "cells": [
  {
   "cell_type": "markdown",
   "metadata": {},
   "source": [
    "Facebook Impressions Effect: An increase in Facebook impressions is associated with an increase in sales. This tests the impact of social media marketing."
   ]
  },
  {
   "cell_type": "markdown",
   "metadata": {},
   "source": []
  }
 ],
 "metadata": {
  "language_info": {
   "name": "python"
  }
 },
 "nbformat": 4,
 "nbformat_minor": 2
}
