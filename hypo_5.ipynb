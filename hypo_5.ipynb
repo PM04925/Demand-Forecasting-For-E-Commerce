{
 "cells": [
  {
   "cell_type": "markdown",
   "metadata": {},
   "source": [
    "Google Clicks Effect: An increase in Google clicks is associated with an increase in sales. This tests the effectiveness of online advertising."
   ]
  },
  {
   "cell_type": "markdown",
   "metadata": {},
   "source": []
  }
 ],
 "metadata": {
  "language_info": {
   "name": "python"
  }
 },
 "nbformat": 4,
 "nbformat_minor": 2
}
